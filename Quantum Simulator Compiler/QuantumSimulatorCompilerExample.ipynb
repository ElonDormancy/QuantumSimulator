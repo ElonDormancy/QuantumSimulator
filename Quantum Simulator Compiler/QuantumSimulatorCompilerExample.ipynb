{
 "cells": [
  {
   "cell_type": "code",
   "execution_count": 1,
   "metadata": {},
   "outputs": [
    {
     "name": "stdout",
     "output_type": "stream",
     "text": [
      "[0.35355339+0.j 0.35355339+0.j 0.35355339+0.j 0.35355339+0.j\n",
      " 0.35355339+0.j 0.35355339+0.j 0.35355339+0.j 0.35355339+0.j]\n"
     ]
    },
    {
     "data": {
      "text/plain": [
       "(<Figure size 432x216 with 1 Axes>,\n",
       " <matplotlib.axes._subplots.AxesSubplot at 0x25ce3164dc8>)"
      ]
     },
     "execution_count": 1,
     "metadata": {},
     "output_type": "execute_result"
    },
    {
     "data": {
      "image/png": "[encoded data removed]",
      "text/plain": [
       "<Figure size 432x216 with 1 Axes>"
      ]
     },
     "metadata": {},
     "output_type": "display_data"
    }
   ],
   "source": [
    "%matplotlib inline\n",
    "from plot_quantum_circuit import plot_quantum_circuit\n",
    "from Init_State import init_vector\n",
    "from JSON_Port import read_json,Apply_Gate_Sets\n",
    "\n",
    "cir = []\n",
    "q = init_vector([0,0,0])\n",
    "q,cir = Apply_Gate_Sets(q ,read_json(\"./gate_sets.json\"))\n",
    "print(q)\n",
    "plot_quantum_circuit(cir)"
   ]
  },
  {
   "cell_type": "code",
   "execution_count": null,
   "metadata": {},
   "outputs": [],
   "source": []
  }
 ],
 "metadata": {
  "kernelspec": {
   "display_name": "Python 3",
   "language": "python",
   "name": "python3"
  },
  "language_info": {
   "codemirror_mode": {
    "name": "ipython",
    "version": 3
   },
   "file_extension": ".py",
   "mimetype": "text/x-python",
   "name": "python",
   "nbconvert_exporter": "python",
   "pygments_lexer": "ipython3",
   "version": "3.7.4"
  }
 },
 "nbformat": 4,
 "nbformat_minor": 4
}
