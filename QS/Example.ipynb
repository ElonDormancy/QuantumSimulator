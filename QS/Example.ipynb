{
 "cells": [
  {
   "cell_type": "code",
   "execution_count": 1,
   "metadata": {},
   "outputs": [],
   "source": [
    "%matplotlib inline\n",
    "from plot_quantum_circuit import plot_quantum_circuit\n",
    "from ControlGate import Control_Gate\n",
    "from SingleGate import Single_Gate\n",
    "from SingleGateSets import SingleGateSets\n",
    "from init import init_vector,vec2Aq\n",
    "import numpy as np\n",
    "from algorithm import qft,UN"
   ]
  },
  {
   "cell_type": "code",
   "execution_count": 2,
   "metadata": {},
   "outputs": [],
   "source": [
    "Gates = SingleGateSets()"
   ]
  },
  {
   "cell_type": "code",
   "execution_count": 3,
   "metadata": {},
   "outputs": [
    {
     "data": {
      "text/plain": [
       "(<Figure size 144x144 with 1 Axes>,\n",
       " <matplotlib.axes._subplots.AxesSubplot at 0x168d54e9c48>)"
      ]
     },
     "execution_count": 3,
     "metadata": {},
     "output_type": "execute_result"
    },
    {
     "data": {
      "image/png": "[encoded data removed]",
      "text/plain": [
       "<Figure size 144x144 with 1 Axes>"
      ]
     },
     "metadata": {},
     "output_type": "display_data"
    }
   ],
   "source": [
    "#EPR creation\n",
    "n = 2\n",
    "qubit = np.zeros(n)\n",
    "cir = []\n",
    "q = init_vector(qubit)\n",
    "q,cir = Single_Gate(q,0,Gates.H(),\"H\",cir)\n",
    "q,cir = Control_Gate(q,0,1,Gates.X(),\"CNOT\",cir)\n",
    "plot_quantum_circuit(cir)"
   ]
  },
  {
   "cell_type": "code",
   "execution_count": 4,
   "metadata": {},
   "outputs": [
    {
     "data": {
      "text/plain": [
       "(<Figure size 216x144 with 1 Axes>,\n",
       " <matplotlib.axes._subplots.AxesSubplot at 0x168d64ea708>)"
      ]
     },
     "execution_count": 4,
     "metadata": {},
     "output_type": "execute_result"
    },
    {
     "data": {
      "image/png": "[encoded data removed]",
      "text/plain": [
       "<Figure size 216x144 with 1 Axes>"
      ]
     },
     "metadata": {},
     "output_type": "display_data"
    }
   ],
   "source": [
    "#SWAP circuit\n",
    "n = 2\n",
    "qubit = np.zeros(n)\n",
    "cir = []\n",
    "q = init_vector(qubit)\n",
    "q,cir = Control_Gate(q,1,0,Gates.X(),\"CNOT\",cir)\n",
    "q,cir = Control_Gate(q,0,1,Gates.X(),\"CNOT\",cir)\n",
    "q,cir = Control_Gate(q,1,0,Gates.X(),\"CNOT\",cir)\n",
    "plot_quantum_circuit(cir)"
   ]
  },
  {
   "cell_type": "code",
   "execution_count": 5,
   "metadata": {},
   "outputs": [
    {
     "data": {
      "text/plain": [
       "(<Figure size 720x288 with 1 Axes>,\n",
       " <matplotlib.axes._subplots.AxesSubplot at 0x168d6578a48>)"
      ]
     },
     "execution_count": 5,
     "metadata": {},
     "output_type": "execute_result"
    },
    {
     "data": {
      "image/png": "[encoded data removed]",
      "text/plain": [
       "<Figure size 720x288 with 1 Axes>"
      ]
     },
     "metadata": {},
     "output_type": "display_data"
    }
   ],
   "source": [
    "#FOURIER TRANSFORM\n",
    "n = 4\n",
    "qubit = np.zeros(n)\n",
    "cir = []\n",
    "q = init_vector(qubit)\n",
    "q,cir = qft(q,cir)\n",
    "plot_quantum_circuit(cir)"
   ]
  },
  {
   "cell_type": "markdown",
   "metadata": {},
   "source": [
    "# Superposition"
   ]
  },
  {
   "cell_type": "code",
   "execution_count": 7,
   "metadata": {},
   "outputs": [
    {
     "data": {
      "text/plain": [
       "(<Figure size 288x288 with 1 Axes>,\n",
       " <matplotlib.axes._subplots.AxesSubplot at 0x168d65e6488>)"
      ]
     },
     "execution_count": 7,
     "metadata": {},
     "output_type": "execute_result"
    },
    {
     "data": {
      "image/png": "[encoded data removed]",
      "text/plain": [
       "<Figure size 288x288 with 1 Axes>"
      ]
     },
     "metadata": {},
     "output_type": "display_data"
    }
   ],
   "source": [
    "n = 4\n",
    "qubit = np.zeros(n)\n",
    "cir = []\n",
    "q = init_vector(qubit)\n",
    "q,cir = UN(q,Gates.H(),\"H\",cir)\n",
    "plot_quantum_circuit(cir)"
   ]
  },
  {
   "cell_type": "code",
   "execution_count": null,
   "metadata": {},
   "outputs": [],
   "source": []
  },
  {
   "cell_type": "code",
   "execution_count": null,
   "metadata": {},
   "outputs": [],
   "source": []
  }
 ],
 "metadata": {
  "kernelspec": {
   "display_name": "Python 3",
   "language": "python",
   "name": "python3"
  },
  "language_info": {
   "codemirror_mode": {
    "name": "ipython",
    "version": 3
   },
   "file_extension": ".py",
   "mimetype": "text/x-python",
   "name": "python",
   "nbconvert_exporter": "python",
   "pygments_lexer": "ipython3",
   "version": "3.7.4"
  }
 },
 "nbformat": 4,
 "nbformat_minor": 4
}
